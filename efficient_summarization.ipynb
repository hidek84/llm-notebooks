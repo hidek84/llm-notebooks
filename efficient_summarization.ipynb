{
 "cells": [
  {
   "cell_type": "markdown",
   "metadata": {
    "id": "kYniNo6EQdy8"
   },
   "source": [
    "# Efficient summarization\n",
    "* using map-reduce https://python.langchain.com/docs/use_cases/summarization#option-2.-map-reduce https://python.langchain.com/docs/modules/chains/document/map_reduce\n",
    "* simply split by X chars"
   ]
  },
  {
   "cell_type": "code",
   "execution_count": null,
   "metadata": {
    "id": "ZwckGYgR7LWT"
   },
   "outputs": [],
   "source": [
    "# import locale\n",
    "# locale.getpreferredencoding = lambda x: \"UTF-8\""
   ]
  },
  {
   "cell_type": "code",
   "execution_count": null,
   "metadata": {
    "id": "tiU3DA22PtT4"
   },
   "outputs": [],
   "source": [
    "!pip install -q --upgrade transformers langchain tiktoken accelerate arize-phoenix[experimental] auto-gptq optimum  # for GPTQ"
   ]
  },
  {
   "cell_type": "code",
   "execution_count": 4,
   "metadata": {
    "scrolled": true
   },
   "outputs": [
    {
     "name": "stdout",
     "output_type": "stream",
     "text": [
      "The following packages are already present in the pyproject.toml and will be skipped:\n",
      "\n",
      "  • \u001b[36mlangchain\u001b[0m\n",
      "\n",
      "If you want to update it to the latest compatible version, you can use `poetry update package`.\n",
      "If you prefer to upgrade it to the latest available version, you can use `poetry add package@latest`.\n",
      "\n",
      "Nothing to add.\n",
      "The following packages are already present in the pyproject.toml and will be skipped:\n",
      "\n",
      "  • \u001b[36mlxml\u001b[0m\n",
      "\n",
      "If you want to update it to the latest compatible version, you can use `poetry update package`.\n",
      "If you prefer to upgrade it to the latest available version, you can use `poetry add package@latest`.\n",
      "\n",
      "Nothing to add.\n",
      "The following packages are already present in the pyproject.toml and will be skipped:\n",
      "\n",
      "  • \u001b[36mtransformers\u001b[0m\n",
      "\n",
      "If you want to update it to the latest compatible version, you can use `poetry update package`.\n",
      "If you prefer to upgrade it to the latest available version, you can use `poetry add package@latest`.\n",
      "\n",
      "Nothing to add.\n",
      "Using version \u001b[1m^2.1.0\u001b[0m for \u001b[36marize-phoenix\u001b[0m\n",
      "\n",
      "\u001b[34mUpdating dependencies\u001b[0m\n",
      "\u001b[2K\u001b[34mResolving dependencies...\u001b[0m \u001b[39;2m(1.4s)\u001b[0m\u001b[34mResolving dependencies...\u001b[0m \u001b[39;2m(0.2s)\u001b[0m\n",
      "\n",
      "\u001b[34mWriting lock file\u001b[0m\n",
      "\n",
      "Package operations: \u001b[34m0\u001b[0m installs, \u001b[34m0\u001b[0m updates, \u001b[34m0\u001b[0m removals\n",
      "\n",
      "Using version \u001b[1m^2.2.2\u001b[0m for \u001b[36msentence-transformers\u001b[0m\n",
      "\n",
      "\u001b[34mUpdating dependencies\u001b[0m\n",
      "\u001b[2K\u001b[34mResolving dependencies...\u001b[0m \u001b[39;2m(916.8s)\u001b[0m34mResolving dependencies...\u001b[0m \u001b[39;2m(1.8s)\u001b[0m\u001b[34mResolving dependencies...\u001b[0m \u001b[39;2m(6.0s)\u001b[0m\u001b[34mResolving dependencies...\u001b[0m \u001b[39;2m(7.2s)\u001b[0m\u001b[34mResolving dependencies...\u001b[0m \u001b[39;2m(9.0s)\u001b[0m\u001b[34mResolving dependencies...\u001b[0m \u001b[39;2m(10.2s)\u001b[0m\u001b[34mResolving dependencies...\u001b[0m \u001b[39;2m(12.4s)\u001b[0m\u001b[34mResolving dependencies...\u001b[0m \u001b[39;2m(15.4s)\u001b[0m\u001b[34mResolving dependencies...\u001b[0m \u001b[39;2m(20.6s)\u001b[0m\u001b[34mResolving dependencies...\u001b[0m \u001b[39;2m(25.5s)\u001b[0m\u001b[34mResolving dependencies...\u001b[0m \u001b[39;2m(29.5s)\u001b[0m\u001b[34mResolving dependencies...\u001b[0m \u001b[39;2m(30.4s)\u001b[0m\u001b[34mResolving dependencies...\u001b[0m \u001b[39;2m(30.5s)\u001b[0m\u001b[34mResolving dependencies...\u001b[0m \u001b[39;2m(33.8s)\u001b[0m\u001b[34mResolving dependencies...\u001b[0m \u001b[39;2m(33.9s)\u001b[0m\u001b[34mResolving dependencies...\u001b[0m \u001b[39;2m(38.7s)\u001b[0m\u001b[34mResolving dependencies...\u001b[0m \u001b[39;2m(39.7s)\u001b[0m\u001b[34mResolving dependencies...\u001b[0m \u001b[39;2m(39.8s)\u001b[0m\u001b[34mResolving dependencies...\u001b[0m \u001b[39;2m(40.7s)\u001b[0m\u001b[34mResolving dependencies...\u001b[0m \u001b[39;2m(42.2s)\u001b[0m\u001b[34mResolving dependencies...\u001b[0m \u001b[39;2m(42.3s)\u001b[0m\u001b[34mResolving dependencies...\u001b[0m \u001b[39;2m(45.5s)\u001b[0m\u001b[34mResolving dependencies...\u001b[0m \u001b[39;2m(46.8s)\u001b[0m\u001b[34mResolving dependencies...\u001b[0m \u001b[39;2m(47.8s)\u001b[0m\u001b[34mResolving dependencies...\u001b[0m \u001b[39;2m(50.0s)\u001b[0m\u001b[34mResolving dependencies...\u001b[0m \u001b[39;2m(52.0s)\u001b[0m\u001b[34mResolving dependencies...\u001b[0m \u001b[39;2m(54.3s)\u001b[0m\u001b[34mResolving dependencies...\u001b[0m \u001b[39;2m(54.4s)\u001b[0m\u001b[34mResolving dependencies...\u001b[0m \u001b[39;2m(57.7s)\u001b[0m\u001b[34mResolving dependencies...\u001b[0m \u001b[39;2m(57.8s)\u001b[0m\u001b[34mResolving dependencies...\u001b[0m \u001b[39;2m(58.6s)\u001b[0m\u001b[34mResolving dependencies...\u001b[0m \u001b[39;2m(58.7s)\u001b[0m\u001b[34mResolving dependencies...\u001b[0m \u001b[39;2m(60.9s)\u001b[0m\u001b[34mResolving dependencies...\u001b[0m \u001b[39;2m(65.6s)\u001b[0m\u001b[34mResolving dependencies...\u001b[0m \u001b[39;2m(68.2s)\u001b[0m\u001b[34mResolving dependencies...\u001b[0m \u001b[39;2m(68.7s)\u001b[0m\u001b[34mResolving dependencies...\u001b[0m \u001b[39;2m(69.9s)\u001b[0m\u001b[34mResolving dependencies...\u001b[0m \u001b[39;2m(70.9s)\u001b[0m\u001b[34mResolving dependencies...\u001b[0m \u001b[39;2m(72.3s)\u001b[0m\u001b[34mResolving dependencies...\u001b[0m \u001b[39;2m(74.6s)\u001b[0m\u001b[34mResolving dependencies...\u001b[0m \u001b[39;2m(75.6s)\u001b[0m\u001b[34mResolving dependencies...\u001b[0m \u001b[39;2m(76.4s)\u001b[0m\u001b[34mResolving dependencies...\u001b[0m \u001b[39;2m(77.5s)\u001b[0m\u001b[34mResolving dependencies...\u001b[0m \u001b[39;2m(79.3s)\u001b[0m\u001b[34mResolving dependencies...\u001b[0m \u001b[39;2m(81.7s)\u001b[0m\u001b[34mResolving dependencies...\u001b[0m \u001b[39;2m(84.2s)\u001b[0m\u001b[34mResolving dependencies...\u001b[0m \u001b[39;2m(84.3s)\u001b[0m\u001b[34mResolving dependencies...\u001b[0m \u001b[39;2m(90.7s)\u001b[0m\u001b[34mResolving dependencies...\u001b[0m \u001b[39;2m(95.0s)\u001b[0m\u001b[34mResolving dependencies...\u001b[0m \u001b[39;2m(100.6s)\u001b[0m\u001b[34mResolving dependencies...\u001b[0m \u001b[39;2m(101.8s)\u001b[0m\u001b[34mResolving dependencies...\u001b[0m \u001b[39;2m(103.0s)\u001b[0m\u001b[34mResolving dependencies...\u001b[0m \u001b[39;2m(103.9s)\u001b[0m\u001b[34mResolving dependencies...\u001b[0m \u001b[39;2m(105.7s)\u001b[0m\u001b[34mResolving dependencies...\u001b[0m \u001b[39;2m(106.5s)\u001b[0m\u001b[34mResolving dependencies...\u001b[0m \u001b[39;2m(108.7s)\u001b[0m\u001b[34mResolving dependencies...\u001b[0m \u001b[39;2m(110.7s)\u001b[0m\u001b[34mResolving dependencies...\u001b[0m \u001b[39;2m(116.2s)\u001b[0m\u001b[34mResolving dependencies...\u001b[0m \u001b[39;2m(117.3s)\u001b[0m\u001b[34mResolving dependencies...\u001b[0m \u001b[39;2m(117.4s)\u001b[0m\u001b[34mResolving dependencies...\u001b[0m \u001b[39;2m(121.0s)\u001b[0m\u001b[34mResolving dependencies...\u001b[0m \u001b[39;2m(122.2s)\u001b[0m\u001b[34mResolving dependencies...\u001b[0m \u001b[39;2m(123.3s)\u001b[0m\u001b[34mResolving dependencies...\u001b[0m \u001b[39;2m(127.0s)\u001b[0m\u001b[34mResolving dependencies...\u001b[0m \u001b[39;2m(129.9s)\u001b[0m\u001b[34mResolving dependencies...\u001b[0m \u001b[39;2m(132.2s)\u001b[0m\u001b[34mResolving dependencies...\u001b[0m \u001b[39;2m(133.3s)\u001b[0m\u001b[34mResolving dependencies...\u001b[0m \u001b[39;2m(135.6s)\u001b[0m\u001b[34mResolving dependencies...\u001b[0m \u001b[39;2m(136.7s)\u001b[0m\u001b[34mResolving dependencies...\u001b[0m \u001b[39;2m(138.8s)\u001b[0m\u001b[34mResolving dependencies...\u001b[0m \u001b[39;2m(140.1s)\u001b[0m\u001b[34mResolving dependencies...\u001b[0m \u001b[39;2m(140.9s)\u001b[0m\u001b[34mResolving dependencies...\u001b[0m \u001b[39;2m(141.0s)\u001b[0m\u001b[34mResolving dependencies...\u001b[0m \u001b[39;2m(146.3s)\u001b[0m\u001b[34mResolving dependencies...\u001b[0m \u001b[39;2m(147.2s)\u001b[0m\u001b[34mResolving dependencies...\u001b[0m \u001b[39;2m(147.3s)\u001b[0m\u001b[34mResolving dependencies...\u001b[0m \u001b[39;2m(147.4s)\u001b[0m\u001b[34mResolving dependencies...\u001b[0m \u001b[39;2m(155.5s)\u001b[0m\u001b[34mResolving dependencies...\u001b[0m \u001b[39;2m(156.5s)\u001b[0m\u001b[34mResolving dependencies...\u001b[0m \u001b[39;2m(158.0s)\u001b[0m\u001b[34mResolving dependencies...\u001b[0m \u001b[39;2m(159.3s)\u001b[0m\u001b[34mResolving dependencies...\u001b[0m \u001b[39;2m(161.5s)\u001b[0m\u001b[34mResolving dependencies...\u001b[0m \u001b[39;2m(163.6s)\u001b[0m\u001b[34mResolving dependencies...\u001b[0m \u001b[39;2m(165.0s)\u001b[0m\u001b[34mResolving dependencies...\u001b[0m \u001b[39;2m(167.0s)\u001b[0m\u001b[34mResolving dependencies...\u001b[0m \u001b[39;2m(167.8s)\u001b[0m\u001b[34mResolving dependencies...\u001b[0m \u001b[39;2m(171.1s)\u001b[0m\u001b[34mResolving dependencies...\u001b[0m \u001b[39;2m(174.3s)\u001b[0m\u001b[34mResolving dependencies...\u001b[0m \u001b[39;2m(174.4s)\u001b[0m\u001b[34mResolving dependencies...\u001b[0m \u001b[39;2m(175.9s)\u001b[0m\u001b[34mResolving dependencies...\u001b[0m \u001b[39;2m(179.5s)\u001b[0m\u001b[34mResolving dependencies...\u001b[0m \u001b[39;2m(180.4s)\u001b[0m\u001b[34mResolving dependencies...\u001b[0m \u001b[39;2m(184.9s)\u001b[0m\u001b[34mResolving dependencies...\u001b[0m \u001b[39;2m(188.2s)\u001b[0m\u001b[34mResolving dependencies...\u001b[0m \u001b[39;2m(192.4s)\u001b[0m\u001b[34mResolving dependencies...\u001b[0m \u001b[39;2m(192.6s)\u001b[0m\u001b[34mResolving dependencies...\u001b[0m \u001b[39;2m(194.9s)\u001b[0m\u001b[34mResolving dependencies...\u001b[0m \u001b[39;2m(197.1s)\u001b[0m\u001b[34mResolving dependencies...\u001b[0m \u001b[39;2m(197.2s)\u001b[0m\u001b[34mResolving dependencies...\u001b[0m \u001b[39;2m(198.3s)\u001b[0m\u001b[34mResolving dependencies...\u001b[0m \u001b[39;2m(198.4s)\u001b[0m\u001b[34mResolving dependencies...\u001b[0m \u001b[39;2m(199.1s)\u001b[0m\u001b[34mResolving dependencies...\u001b[0m \u001b[39;2m(200.2s)\u001b[0m\u001b[34mResolving dependencies...\u001b[0m \u001b[39;2m(201.3s)\u001b[0m\u001b[34mResolving dependencies...\u001b[0m \u001b[39;2m(202.3s)\u001b[0m\u001b[34mResolving dependencies...\u001b[0m \u001b[39;2m(206.1s)\u001b[0m\u001b[34mResolving dependencies...\u001b[0m \u001b[39;2m(206.3s)\u001b[0m\u001b[34mResolving dependencies...\u001b[0m \u001b[39;2m(210.9s)\u001b[0m\u001b[34mResolving dependencies...\u001b[0m \u001b[39;2m(214.7s)\u001b[0m\u001b[34mResolving dependencies...\u001b[0m \u001b[39;2m(216.3s)\u001b[0m\u001b[34mResolving dependencies...\u001b[0m \u001b[39;2m(218.4s)\u001b[0m\u001b[34mResolving dependencies...\u001b[0m \u001b[39;2m(219.5s)\u001b[0m\u001b[34mResolving dependencies...\u001b[0m \u001b[39;2m(223.8s)\u001b[0m\u001b[34mResolving dependencies...\u001b[0m \u001b[39;2m(225.1s)\u001b[0m\u001b[34mResolving dependencies...\u001b[0m \u001b[39;2m(226.2s)\u001b[0m\u001b[34mResolving dependencies...\u001b[0m \u001b[39;2m(230.2s)\u001b[0m\u001b[34mResolving dependencies...\u001b[0m \u001b[39;2m(233.5s)\u001b[0m\u001b[34mResolving dependencies...\u001b[0m \u001b[39;2m(237.9s)\u001b[0m\u001b[34mResolving dependencies...\u001b[0m \u001b[39;2m(238.2s)\u001b[0m\u001b[34mResolving dependencies...\u001b[0m \u001b[39;2m(239.2s)\u001b[0m\u001b[34mResolving dependencies...\u001b[0m \u001b[39;2m(244.1s)\u001b[0m\u001b[34mResolving dependencies...\u001b[0m \u001b[39;2m(245.5s)\u001b[0m\u001b[34mResolving dependencies...\u001b[0m \u001b[39;2m(245.6s)\u001b[0m\u001b[34mResolving dependencies...\u001b[0m \u001b[39;2m(246.8s)\u001b[0m\u001b[34mResolving dependencies...\u001b[0m \u001b[39;2m(247.4s)\u001b[0m\u001b[34mResolving dependencies...\u001b[0m \u001b[39;2m(248.8s)\u001b[0m\u001b[34mResolving dependencies...\u001b[0m \u001b[39;2m(248.9s)\u001b[0m\u001b[34mResolving dependencies...\u001b[0m \u001b[39;2m(250.1s)\u001b[0m\u001b[34mResolving dependencies...\u001b[0m \u001b[39;2m(253.5s)\u001b[0m\u001b[34mResolving dependencies...\u001b[0m \u001b[39;2m(257.3s)\u001b[0m\u001b[34mResolving dependencies...\u001b[0m \u001b[39;2m(258.4s)\u001b[0m\u001b[34mResolving dependencies...\u001b[0m \u001b[39;2m(264.0s)\u001b[0m\u001b[34mResolving dependencies...\u001b[0m \u001b[39;2m(265.1s)\u001b[0m\u001b[34mResolving dependencies...\u001b[0m \u001b[39;2m(265.3s)\u001b[0m\u001b[34mResolving dependencies...\u001b[0m \u001b[39;2m(265.4s)\u001b[0m\u001b[34mResolving dependencies...\u001b[0m \u001b[39;2m(268.4s)\u001b[0m\u001b[34mResolving dependencies...\u001b[0m \u001b[39;2m(276.1s)\u001b[0m\u001b[34mResolving dependencies...\u001b[0m \u001b[39;2m(276.2s)\u001b[0m\u001b[34mResolving dependencies...\u001b[0m \u001b[39;2m(280.7s)\u001b[0m\u001b[34mResolving dependencies...\u001b[0m \u001b[39;2m(282.9s)\u001b[0m\u001b[34mResolving dependencies...\u001b[0m \u001b[39;2m(284.1s)\u001b[0m\u001b[34mResolving dependencies...\u001b[0m \u001b[39;2m(286.5s)\u001b[0m\u001b[34mResolving dependencies...\u001b[0m \u001b[39;2m(287.5s)\u001b[0m\u001b[34mResolving dependencies...\u001b[0m \u001b[39;2m(287.6s)\u001b[0m\u001b[34mResolving dependencies...\u001b[0m \u001b[39;2m(290.7s)\u001b[0m\u001b[34mResolving dependencies...\u001b[0m \u001b[39;2m(290.8s)\u001b[0m\u001b[34mResolving dependencies...\u001b[0m \u001b[39;2m(290.9s)\u001b[0m\u001b[34mResolving dependencies...\u001b[0m \u001b[39;2m(291.7s)\u001b[0m\u001b[34mResolving dependencies...\u001b[0m \u001b[39;2m(293.4s)\u001b[0m\u001b[34mResolving dependencies...\u001b[0m \u001b[39;2m(295.6s)\u001b[0m\u001b[34mResolving dependencies...\u001b[0m \u001b[39;2m(298.9s)\u001b[0m\u001b[34mResolving dependencies...\u001b[0m \u001b[39;2m(299.0s)\u001b[0m\u001b[34mResolving dependencies...\u001b[0m \u001b[39;2m(300.3s)\u001b[0m\u001b[34mResolving dependencies...\u001b[0m \u001b[39;2m(301.5s)\u001b[0m\u001b[34mResolving dependencies...\u001b[0m \u001b[39;2m(302.6s)\u001b[0m\u001b[34mResolving dependencies...\u001b[0m \u001b[39;2m(303.8s)\u001b[0m\u001b[34mResolving dependencies...\u001b[0m \u001b[39;2m(304.6s)\u001b[0m\u001b[34mResolving dependencies...\u001b[0m \u001b[39;2m(306.7s)\u001b[0m\u001b[34mResolving dependencies...\u001b[0m \u001b[39;2m(312.3s)\u001b[0m\u001b[34mResolving dependencies...\u001b[0m \u001b[39;2m(315.8s)\u001b[0m\u001b[34mResolving dependencies...\u001b[0m \u001b[39;2m(319.4s)\u001b[0m\u001b[34mResolving dependencies...\u001b[0m \u001b[39;2m(321.5s)\u001b[0m\u001b[34mResolving dependencies...\u001b[0m \u001b[39;2m(323.7s)\u001b[0m\u001b[34mResolving dependencies...\u001b[0m \u001b[39;2m(324.4s)\u001b[0m\u001b[34mResolving dependencies...\u001b[0m \u001b[39;2m(331.4s)\u001b[0m\u001b[34mResolving dependencies...\u001b[0m \u001b[39;2m(331.5s)\u001b[0m\u001b[34mResolving dependencies...\u001b[0m \u001b[39;2m(331.6s)\u001b[0m\u001b[34mResolving dependencies...\u001b[0m \u001b[39;2m(334.0s)\u001b[0m\u001b[34mResolving dependencies...\u001b[0m \u001b[39;2m(334.1s)\u001b[0m\u001b[34mResolving dependencies...\u001b[0m \u001b[39;2m(335.2s)\u001b[0m\u001b[34mResolving dependencies...\u001b[0m \u001b[39;2m(338.5s)\u001b[0m\u001b[34mResolving dependencies...\u001b[0m \u001b[39;2m(340.1s)\u001b[0m\u001b[34mResolving dependencies...\u001b[0m \u001b[39;2m(341.4s)\u001b[0m\u001b[34mResolving dependencies...\u001b[0m \u001b[39;2m(341.5s)\u001b[0m\u001b[34mResolving dependencies...\u001b[0m \u001b[39;2m(350.4s)\u001b[0m\u001b[34mResolving dependencies...\u001b[0m \u001b[39;2m(355.0s)\u001b[0m\u001b[34mResolving dependencies...\u001b[0m \u001b[39;2m(356.1s)\u001b[0m\u001b[34mResolving dependencies...\u001b[0m \u001b[39;2m(356.2s)\u001b[0m\u001b[34mResolving dependencies...\u001b[0m \u001b[39;2m(356.8s)\u001b[0m\u001b[34mResolving dependencies...\u001b[0m \u001b[39;2m(358.0s)\u001b[0m\u001b[34mResolving dependencies...\u001b[0m \u001b[39;2m(359.5s)\u001b[0m\u001b[34mResolving dependencies...\u001b[0m \u001b[39;2m(367.5s)\u001b[0m\u001b[34mResolving dependencies...\u001b[0m \u001b[39;2m(370.5s)\u001b[0m\u001b[34mResolving dependencies...\u001b[0m \u001b[39;2m(371.8s)\u001b[0m\u001b[34mResolving dependencies...\u001b[0m \u001b[39;2m(373.4s)\u001b[0m\u001b[34mResolving dependencies...\u001b[0m \u001b[39;2m(374.4s)\u001b[0m\u001b[34mResolving dependencies...\u001b[0m \u001b[39;2m(380.3s)\u001b[0m\u001b[34mResolving dependencies...\u001b[0m \u001b[39;2m(381.6s)\u001b[0m\u001b[34mResolving dependencies...\u001b[0m \u001b[39;2m(383.6s)\u001b[0m\u001b[34mResolving dependencies...\u001b[0m \u001b[39;2m(385.0s)\u001b[0m\u001b[34mResolving dependencies...\u001b[0m \u001b[39;2m(386.1s)\u001b[0m\u001b[34mResolving dependencies...\u001b[0m \u001b[39;2m(387.6s)\u001b[0m\u001b[34mResolving dependencies...\u001b[0m \u001b[39;2m(388.6s)\u001b[0m\u001b[34mResolving dependencies...\u001b[0m \u001b[39;2m(391.9s)\u001b[0m\u001b[34mResolving dependencies...\u001b[0m \u001b[39;2m(393.8s)\u001b[0m\u001b[34mResolving dependencies...\u001b[0m \u001b[39;2m(397.1s)\u001b[0m\u001b[34mResolving dependencies...\u001b[0m \u001b[39;2m(397.2s)\u001b[0m\u001b[34mResolving dependencies...\u001b[0m \u001b[39;2m(397.3s)\u001b[0m\u001b[34mResolving dependencies...\u001b[0m \u001b[39;2m(400.0s)\u001b[0m\u001b[34mResolving dependencies...\u001b[0m \u001b[39;2m(402.0s)\u001b[0m\u001b[34mResolving dependencies...\u001b[0m \u001b[39;2m(404.3s)\u001b[0m\u001b[34mResolving dependencies...\u001b[0m \u001b[39;2m(405.4s)\u001b[0m\u001b[34mResolving dependencies...\u001b[0m \u001b[39;2m(406.8s)\u001b[0m\u001b[34mResolving dependencies...\u001b[0m \u001b[39;2m(406.9s)\u001b[0m\u001b[34mResolving dependencies...\u001b[0m \u001b[39;2m(409.7s)\u001b[0m\u001b[34mResolving dependencies...\u001b[0m \u001b[39;2m(411.9s)\u001b[0m\u001b[34mResolving dependencies...\u001b[0m \u001b[39;2m(412.0s)\u001b[0m\u001b[34mResolving dependencies...\u001b[0m \u001b[39;2m(413.1s)\u001b[0m\u001b[34mResolving dependencies...\u001b[0m \u001b[39;2m(418.1s)\u001b[0m\u001b[34mResolving dependencies...\u001b[0m \u001b[39;2m(423.9s)\u001b[0m\u001b[34mResolving dependencies...\u001b[0m \u001b[39;2m(425.1s)\u001b[0m\u001b[34mResolving dependencies...\u001b[0m \u001b[39;2m(430.8s)\u001b[0m\u001b[34mResolving dependencies...\u001b[0m \u001b[39;2m(431.9s)\u001b[0m\u001b[34mResolving dependencies...\u001b[0m \u001b[39;2m(434.2s)\u001b[0m\u001b[34mResolving dependencies...\u001b[0m \u001b[39;2m(436.9s)\u001b[0m\u001b[34mResolving dependencies...\u001b[0m \u001b[39;2m(440.7s)\u001b[0m\u001b[34mResolving dependencies...\u001b[0m \u001b[39;2m(441.8s)\u001b[0m\u001b[34mResolving dependencies...\u001b[0m \u001b[39;2m(443.3s)\u001b[0m\u001b[34mResolving dependencies...\u001b[0m \u001b[39;2m(443.4s)\u001b[0m\u001b[34mResolving dependencies...\u001b[0m \u001b[39;2m(444.9s)\u001b[0m\u001b[34mResolving dependencies...\u001b[0m \u001b[39;2m(447.0s)\u001b[0m\u001b[34mResolving dependencies...\u001b[0m \u001b[39;2m(448.9s)\u001b[0m\u001b[34mResolving dependencies...\u001b[0m \u001b[39;2m(454.0s)\u001b[0m\u001b[34mResolving dependencies...\u001b[0m \u001b[39;2m(461.4s)\u001b[0m\u001b[34mResolving dependencies...\u001b[0m \u001b[39;2m(461.5s)\u001b[0m\u001b[34mResolving dependencies...\u001b[0m \u001b[39;2m(462.9s)\u001b[0m\u001b[34mResolving dependencies...\u001b[0m \u001b[39;2m(463.0s)\u001b[0m\u001b[34mResolving dependencies...\u001b[0m \u001b[39;2m(464.8s)\u001b[0m\u001b[34mResolving dependencies...\u001b[0m \u001b[39;2m(471.0s)\u001b[0m\u001b[34mResolving dependencies...\u001b[0m \u001b[39;2m(471.1s)\u001b[0m\u001b[34mResolving dependencies...\u001b[0m \u001b[39;2m(472.4s)\u001b[0m\u001b[34mResolving dependencies...\u001b[0m \u001b[39;2m(474.4s)\u001b[0m\u001b[34mResolving dependencies...\u001b[0m \u001b[39;2m(475.4s)\u001b[0m\u001b[34mResolving dependencies...\u001b[0m \u001b[39;2m(476.8s)\u001b[0m\u001b[34mResolving dependencies...\u001b[0m \u001b[39;2m(482.6s)\u001b[0m\u001b[34mResolving dependencies...\u001b[0m \u001b[39;2m(482.7s)\u001b[0m\u001b[34mResolving dependencies...\u001b[0m \u001b[39;2m(483.7s)\u001b[0m\u001b[34mResolving dependencies...\u001b[0m \u001b[39;2m(486.2s)\u001b[0m\u001b[34mResolving dependencies...\u001b[0m \u001b[39;2m(490.7s)\u001b[0m\u001b[34mResolving dependencies...\u001b[0m \u001b[39;2m(495.3s)\u001b[0m\u001b[34mResolving dependencies...\u001b[0m \u001b[39;2m(495.4s)\u001b[0m\u001b[34mResolving dependencies...\u001b[0m \u001b[39;2m(495.5s)\u001b[0m\u001b[34mResolving dependencies...\u001b[0m \u001b[39;2m(495.7s)\u001b[0m\u001b[34mResolving dependencies...\u001b[0m \u001b[39;2m(495.8s)\u001b[0m\u001b[34mResolving dependencies...\u001b[0m \u001b[39;2m(499.5s)\u001b[0m\u001b[34mResolving dependencies...\u001b[0m \u001b[39;2m(502.6s)\u001b[0m\u001b[34mResolving dependencies...\u001b[0m \u001b[39;2m(503.7s)\u001b[0m\u001b[34mResolving dependencies...\u001b[0m \u001b[39;2m(507.2s)\u001b[0m\u001b[34mResolving dependencies...\u001b[0m \u001b[39;2m(509.8s)\u001b[0m\u001b[34mResolving dependencies...\u001b[0m \u001b[39;2m(513.1s)\u001b[0m\u001b[34mResolving dependencies...\u001b[0m \u001b[39;2m(514.2s)\u001b[0m\u001b[34mResolving dependencies...\u001b[0m \u001b[39;2m(515.6s)\u001b[0m\u001b[34mResolving dependencies...\u001b[0m \u001b[39;2m(518.5s)\u001b[0m\u001b[34mResolving dependencies...\u001b[0m \u001b[39;2m(522.4s)\u001b[0m\u001b[34mResolving dependencies...\u001b[0m \u001b[39;2m(524.6s)\u001b[0m\u001b[34mResolving dependencies...\u001b[0m \u001b[39;2m(526.1s)\u001b[0m\u001b[34mResolving dependencies...\u001b[0m \u001b[39;2m(529.0s)\u001b[0m\u001b[34mResolving dependencies...\u001b[0m \u001b[39;2m(530.0s)\u001b[0m\u001b[34mResolving dependencies...\u001b[0m \u001b[39;2m(531.5s)\u001b[0m\u001b[34mResolving dependencies...\u001b[0m \u001b[39;2m(531.9s)\u001b[0m\u001b[34mResolving dependencies...\u001b[0m \u001b[39;2m(533.1s)\u001b[0m\u001b[34mResolving dependencies...\u001b[0m \u001b[39;2m(533.2s)\u001b[0m\u001b[34mResolving dependencies...\u001b[0m \u001b[39;2m(537.4s)\u001b[0m\u001b[34mResolving dependencies...\u001b[0m \u001b[39;2m(540.0s)\u001b[0m\u001b[34mResolving dependencies...\u001b[0m \u001b[39;2m(541.2s)\u001b[0m\u001b[34mResolving dependencies...\u001b[0m \u001b[39;2m(544.9s)\u001b[0m\u001b[34mResolving dependencies...\u001b[0m \u001b[39;2m(545.8s)\u001b[0m\u001b[34mResolving dependencies...\u001b[0m \u001b[39;2m(550.1s)\u001b[0m\u001b[34mResolving dependencies...\u001b[0m \u001b[39;2m(550.3s)\u001b[0m\u001b[34mResolving dependencies...\u001b[0m \u001b[39;2m(551.5s)\u001b[0m\u001b[34mResolving dependencies...\u001b[0m \u001b[39;2m(555.2s)\u001b[0m\u001b[34mResolving dependencies...\u001b[0m \u001b[39;2m(556.6s)\u001b[0m\u001b[34mResolving dependencies...\u001b[0m \u001b[39;2m(559.3s)\u001b[0m\u001b[34mResolving dependencies...\u001b[0m \u001b[39;2m(562.2s)\u001b[0m\u001b[34mResolving dependencies...\u001b[0m \u001b[39;2m(567.8s)\u001b[0m\u001b[34mResolving dependencies...\u001b[0m \u001b[39;2m(569.0s)\u001b[0m\u001b[34mResolving dependencies...\u001b[0m \u001b[39;2m(570.7s)\u001b[0m\u001b[34mResolving dependencies...\u001b[0m \u001b[39;2m(574.1s)\u001b[0m\u001b[34mResolving dependencies...\u001b[0m \u001b[39;2m(575.3s)\u001b[0m\u001b[34mResolving dependencies...\u001b[0m \u001b[39;2m(579.1s)\u001b[0m\u001b[34mResolving dependencies...\u001b[0m \u001b[39;2m(581.5s)\u001b[0m\u001b[34mResolving dependencies...\u001b[0m \u001b[39;2m(582.8s)\u001b[0m\u001b[34mResolving dependencies...\u001b[0m \u001b[39;2m(583.9s)\u001b[0m\u001b[34mResolving dependencies...\u001b[0m \u001b[39;2m(584.0s)\u001b[0m\u001b[34mResolving dependencies...\u001b[0m \u001b[39;2m(585.4s)\u001b[0m\u001b[34mResolving dependencies...\u001b[0m \u001b[39;2m(587.0s)\u001b[0m\u001b[34mResolving dependencies...\u001b[0m \u001b[39;2m(588.2s)\u001b[0m\u001b[34mResolving dependencies...\u001b[0m \u001b[39;2m(589.4s)\u001b[0m\u001b[34mResolving dependencies...\u001b[0m \u001b[39;2m(589.6s)\u001b[0m\u001b[34mResolving dependencies...\u001b[0m \u001b[39;2m(596.8s)\u001b[0m\u001b[34mResolving dependencies...\u001b[0m \u001b[39;2m(596.9s)\u001b[0m\u001b[34mResolving dependencies...\u001b[0m \u001b[39;2m(598.1s)\u001b[0m\u001b[34mResolving dependencies...\u001b[0m \u001b[39;2m(603.1s)\u001b[0m\u001b[34mResolving dependencies...\u001b[0m \u001b[39;2m(604.9s)\u001b[0m\u001b[34mResolving dependencies...\u001b[0m \u001b[39;2m(606.2s)\u001b[0m\u001b[34mResolving dependencies...\u001b[0m \u001b[39;2m(607.6s)\u001b[0m\u001b[34mResolving dependencies...\u001b[0m \u001b[39;2m(608.8s)\u001b[0m\u001b[34mResolving dependencies...\u001b[0m \u001b[39;2m(610.1s)\u001b[0m\u001b[34mResolving dependencies...\u001b[0m \u001b[39;2m(611.2s)\u001b[0m\u001b[34mResolving dependencies...\u001b[0m \u001b[39;2m(611.3s)\u001b[0m\u001b[34mResolving dependencies...\u001b[0m \u001b[39;2m(611.4s)\u001b[0m\u001b[34mResolving dependencies...\u001b[0m \u001b[39;2m(612.6s)\u001b[0m\u001b[34mResolving dependencies...\u001b[0m \u001b[39;2m(612.8s)\u001b[0m\u001b[34mResolving dependencies...\u001b[0m \u001b[39;2m(626.6s)\u001b[0m\u001b[34mResolving dependencies...\u001b[0m \u001b[39;2m(626.7s)\u001b[0m\u001b[34mResolving dependencies...\u001b[0m \u001b[39;2m(627.6s)\u001b[0m\u001b[34mResolving dependencies...\u001b[0m \u001b[39;2m(633.1s)\u001b[0m\u001b[34mResolving dependencies...\u001b[0m \u001b[39;2m(635.7s)\u001b[0m\u001b[34mResolving dependencies...\u001b[0m \u001b[39;2m(635.8s)\u001b[0m\u001b[34mResolving dependencies...\u001b[0m \u001b[39;2m(638.7s)\u001b[0m\u001b[34mResolving dependencies...\u001b[0m \u001b[39;2m(638.8s)\u001b[0m\u001b[34mResolving dependencies...\u001b[0m \u001b[39;2m(641.1s)\u001b[0m\u001b[34mResolving dependencies...\u001b[0m \u001b[39;2m(641.2s)\u001b[0m\u001b[34mResolving dependencies...\u001b[0m \u001b[39;2m(643.6s)\u001b[0m\u001b[34mResolving dependencies...\u001b[0m \u001b[39;2m(646.7s)\u001b[0m\u001b[34mResolving dependencies...\u001b[0m \u001b[39;2m(647.9s)\u001b[0m\u001b[34mResolving dependencies...\u001b[0m \u001b[39;2m(654.1s)\u001b[0m\u001b[34mResolving dependencies...\u001b[0m \u001b[39;2m(656.6s)\u001b[0m\u001b[34mResolving dependencies...\u001b[0m \u001b[39;2m(661.4s)\u001b[0m\u001b[34mResolving dependencies...\u001b[0m \u001b[39;2m(661.5s)\u001b[0m\u001b[34mResolving dependencies...\u001b[0m \u001b[39;2m(662.4s)\u001b[0m\u001b[34mResolving dependencies...\u001b[0m \u001b[39;2m(664.9s)\u001b[0m\u001b[34mResolving dependencies...\u001b[0m \u001b[39;2m(665.9s)\u001b[0m\u001b[34mResolving dependencies...\u001b[0m \u001b[39;2m(666.1s)\u001b[0m\u001b[34mResolving dependencies...\u001b[0m \u001b[39;2m(668.5s)\u001b[0m\u001b[34mResolving dependencies...\u001b[0m \u001b[39;2m(669.6s)\u001b[0m\u001b[34mResolving dependencies...\u001b[0m \u001b[39;2m(671.0s)\u001b[0m\u001b[34mResolving dependencies...\u001b[0m \u001b[39;2m(676.1s)\u001b[0m\u001b[34mResolving dependencies...\u001b[0m \u001b[39;2m(678.7s)\u001b[0m\u001b[34mResolving dependencies...\u001b[0m \u001b[39;2m(680.2s)\u001b[0m\u001b[34mResolving dependencies...\u001b[0m \u001b[39;2m(680.3s)\u001b[0m\u001b[34mResolving dependencies...\u001b[0m \u001b[39;2m(681.2s)\u001b[0m\u001b[34mResolving dependencies...\u001b[0m \u001b[39;2m(681.3s)\u001b[0m\u001b[34mResolving dependencies...\u001b[0m \u001b[39;2m(685.8s)\u001b[0m\u001b[34mResolving dependencies...\u001b[0m \u001b[39;2m(686.9s)\u001b[0m\u001b[34mResolving dependencies...\u001b[0m \u001b[39;2m(689.8s)\u001b[0m\u001b[34mResolving dependencies...\u001b[0m \u001b[39;2m(692.0s)\u001b[0m\u001b[34mResolving dependencies...\u001b[0m \u001b[39;2m(693.2s)\u001b[0m\u001b[34mResolving dependencies...\u001b[0m \u001b[39;2m(694.1s)\u001b[0m\u001b[34mResolving dependencies...\u001b[0m \u001b[39;2m(697.9s)\u001b[0m\u001b[34mResolving dependencies...\u001b[0m \u001b[39;2m(699.3s)\u001b[0m\u001b[34mResolving dependencies...\u001b[0m \u001b[39;2m(701.5s)\u001b[0m\u001b[34mResolving dependencies...\u001b[0m \u001b[39;2m(702.7s)\u001b[0m\u001b[34mResolving dependencies...\u001b[0m \u001b[39;2m(703.7s)\u001b[0m\u001b[34mResolving dependencies...\u001b[0m \u001b[39;2m(709.1s)\u001b[0m\u001b[34mResolving dependencies...\u001b[0m \u001b[39;2m(709.2s)\u001b[0m\u001b[34mResolving dependencies...\u001b[0m \u001b[39;2m(710.2s)\u001b[0m\u001b[34mResolving dependencies...\u001b[0m \u001b[39;2m(712.5s)\u001b[0m\u001b[34mResolving dependencies...\u001b[0m \u001b[39;2m(714.5s)\u001b[0m\u001b[34mResolving dependencies...\u001b[0m \u001b[39;2m(715.9s)\u001b[0m\u001b[34mResolving dependencies...\u001b[0m \u001b[39;2m(718.5s)\u001b[0m\u001b[34mResolving dependencies...\u001b[0m \u001b[39;2m(720.0s)\u001b[0m\u001b[34mResolving dependencies...\u001b[0m \u001b[39;2m(721.2s)\u001b[0m\u001b[34mResolving dependencies...\u001b[0m \u001b[39;2m(722.3s)\u001b[0m\u001b[34mResolving dependencies...\u001b[0m \u001b[39;2m(730.8s)\u001b[0m\u001b[34mResolving dependencies...\u001b[0m \u001b[39;2m(730.9s)\u001b[0m\u001b[34mResolving dependencies...\u001b[0m \u001b[39;2m(735.6s)\u001b[0m\u001b[34mResolving dependencies...\u001b[0m \u001b[39;2m(738.0s)\u001b[0m\u001b[34mResolving dependencies...\u001b[0m \u001b[39;2m(739.3s)\u001b[0m\u001b[34mResolving dependencies...\u001b[0m \u001b[39;2m(740.8s)\u001b[0m\u001b[34mResolving dependencies...\u001b[0m \u001b[39;2m(742.1s)\u001b[0m\u001b[34mResolving dependencies...\u001b[0m \u001b[39;2m(742.2s)\u001b[0m\u001b[34mResolving dependencies...\u001b[0m \u001b[39;2m(745.8s)\u001b[0m\u001b[34mResolving dependencies...\u001b[0m \u001b[39;2m(745.9s)\u001b[0m\u001b[34mResolving dependencies...\u001b[0m \u001b[39;2m(747.6s)\u001b[0m\u001b[34mResolving dependencies...\u001b[0m \u001b[39;2m(747.8s)\u001b[0m\u001b[34mResolving dependencies...\u001b[0m \u001b[39;2m(749.8s)\u001b[0m\u001b[34mResolving dependencies...\u001b[0m \u001b[39;2m(753.6s)\u001b[0m\u001b[34mResolving dependencies...\u001b[0m \u001b[39;2m(755.7s)\u001b[0m\u001b[34mResolving dependencies...\u001b[0m \u001b[39;2m(758.1s)\u001b[0m\u001b[34mResolving dependencies...\u001b[0m \u001b[39;2m(762.3s)\u001b[0m\u001b[34mResolving dependencies...\u001b[0m \u001b[39;2m(764.3s)\u001b[0m\u001b[34mResolving dependencies...\u001b[0m \u001b[39;2m(765.6s)\u001b[0m\u001b[34mResolving dependencies...\u001b[0m \u001b[39;2m(770.1s)\u001b[0m\u001b[34mResolving dependencies...\u001b[0m \u001b[39;2m(773.0s)\u001b[0m\u001b[34mResolving dependencies...\u001b[0m \u001b[39;2m(774.5s)\u001b[0m\u001b[34mResolving dependencies...\u001b[0m \u001b[39;2m(775.9s)\u001b[0m\u001b[34mResolving dependencies...\u001b[0m \u001b[39;2m(779.4s)\u001b[0m\u001b[34mResolving dependencies...\u001b[0m \u001b[39;2m(781.8s)\u001b[0m\u001b[34mResolving dependencies...\u001b[0m \u001b[39;2m(785.1s)\u001b[0m\u001b[34mResolving dependencies...\u001b[0m \u001b[39;2m(786.5s)\u001b[0m\u001b[34mResolving dependencies...\u001b[0m \u001b[39;2m(788.0s)\u001b[0m\u001b[34mResolving dependencies...\u001b[0m \u001b[39;2m(789.4s)\u001b[0m\u001b[34mResolving dependencies...\u001b[0m \u001b[39;2m(791.4s)\u001b[0m\u001b[34mResolving dependencies...\u001b[0m \u001b[39;2m(799.0s)\u001b[0m\u001b[34mResolving dependencies...\u001b[0m \u001b[39;2m(800.0s)\u001b[0m\u001b[34mResolving dependencies...\u001b[0m \u001b[39;2m(800.2s)\u001b[0m\u001b[34mResolving dependencies...\u001b[0m \u001b[39;2m(802.0s)\u001b[0m\u001b[34mResolving dependencies...\u001b[0m \u001b[39;2m(804.5s)\u001b[0m\u001b[34mResolving dependencies...\u001b[0m \u001b[39;2m(808.1s)\u001b[0m\u001b[34mResolving dependencies...\u001b[0m \u001b[39;2m(809.2s)\u001b[0m\u001b[34mResolving dependencies...\u001b[0m \u001b[39;2m(809.5s)\u001b[0m\u001b[34mResolving dependencies...\u001b[0m \u001b[39;2m(811.8s)\u001b[0m\u001b[34mResolving dependencies...\u001b[0m \u001b[39;2m(811.9s)\u001b[0m\u001b[34mResolving dependencies...\u001b[0m \u001b[39;2m(812.0s)\u001b[0m\u001b[34mResolving dependencies...\u001b[0m \u001b[39;2m(816.4s)\u001b[0m\u001b[34mResolving dependencies...\u001b[0m \u001b[39;2m(816.5s)\u001b[0m\u001b[34mResolving dependencies...\u001b[0m \u001b[39;2m(816.6s)\u001b[0m\u001b[34mResolving dependencies...\u001b[0m \u001b[39;2m(821.2s)\u001b[0m\u001b[34mResolving dependencies...\u001b[0m \u001b[39;2m(822.6s)\u001b[0m\u001b[34mResolving dependencies...\u001b[0m \u001b[39;2m(829.8s)\u001b[0m\u001b[34mResolving dependencies...\u001b[0m \u001b[39;2m(832.4s)\u001b[0m\u001b[34mResolving dependencies...\u001b[0m \u001b[39;2m(834.0s)\u001b[0m\u001b[34mResolving dependencies...\u001b[0m \u001b[39;2m(834.1s)\u001b[0m\u001b[34mResolving dependencies...\u001b[0m \u001b[39;2m(834.3s)\u001b[0m\u001b[34mResolving dependencies...\u001b[0m \u001b[39;2m(834.4s)\u001b[0m\u001b[34mResolving dependencies...\u001b[0m \u001b[39;2m(835.4s)\u001b[0m\u001b[34mResolving dependencies...\u001b[0m \u001b[39;2m(838.1s)\u001b[0m\u001b[34mResolving dependencies...\u001b[0m \u001b[39;2m(839.3s)\u001b[0m\u001b[34mResolving dependencies...\u001b[0m \u001b[39;2m(840.8s)\u001b[0m\u001b[34mResolving dependencies...\u001b[0m \u001b[39;2m(844.8s)\u001b[0m\u001b[34mResolving dependencies...\u001b[0m \u001b[39;2m(846.4s)\u001b[0m\u001b[34mResolving dependencies...\u001b[0m \u001b[39;2m(847.8s)\u001b[0m\u001b[34mResolving dependencies...\u001b[0m \u001b[39;2m(851.6s)\u001b[0m\u001b[34mResolving dependencies...\u001b[0m \u001b[39;2m(852.8s)\u001b[0m\u001b[34mResolving dependencies...\u001b[0m \u001b[39;2m(855.3s)\u001b[0m\u001b[34mResolving dependencies...\u001b[0m \u001b[39;2m(856.4s)\u001b[0m\u001b[34mResolving dependencies...\u001b[0m \u001b[39;2m(857.8s)\u001b[0m\u001b[34mResolving dependencies...\u001b[0m \u001b[39;2m(860.5s)\u001b[0m\u001b[34mResolving dependencies...\u001b[0m \u001b[39;2m(861.9s)\u001b[0m\u001b[34mResolving dependencies...\u001b[0m \u001b[39;2m(862.0s)\u001b[0m\u001b[34mResolving dependencies...\u001b[0m \u001b[39;2m(865.7s)\u001b[0m\u001b[34mResolving dependencies...\u001b[0m \u001b[39;2m(870.8s)\u001b[0m\u001b[34mResolving dependencies...\u001b[0m \u001b[39;2m(872.1s)\u001b[0m\u001b[34mResolving dependencies...\u001b[0m \u001b[39;2m(874.9s)\u001b[0m\u001b[34mResolving dependencies...\u001b[0m \u001b[39;2m(879.9s)\u001b[0m\u001b[34mResolving dependencies...\u001b[0m \u001b[39;2m(880.0s)\u001b[0m\u001b[34mResolving dependencies...\u001b[0m \u001b[39;2m(881.2s)\u001b[0m\u001b[34mResolving dependencies...\u001b[0m \u001b[39;2m(884.2s)\u001b[0m\u001b[34mResolving dependencies...\u001b[0m \u001b[39;2m(887.6s)\u001b[0m\u001b[34mResolving dependencies...\u001b[0m \u001b[39;2m(891.9s)\u001b[0m\u001b[34mResolving dependencies...\u001b[0m \u001b[39;2m(893.1s)\u001b[0m\u001b[34mResolving dependencies...\u001b[0m \u001b[39;2m(897.5s)\u001b[0m\u001b[34mResolving dependencies...\u001b[0m \u001b[39;2m(900.2s)\u001b[0m\u001b[34mResolving dependencies...\u001b[0m \u001b[39;2m(901.4s)\u001b[0m\u001b[34mResolving dependencies...\u001b[0m \u001b[39;2m(904.5s)\u001b[0m\u001b[34mResolving dependencies...\u001b[0m \u001b[39;2m(905.9s)\u001b[0m\u001b[34mResolving dependencies...\u001b[0m \u001b[39;2m(906.0s)\u001b[0m\u001b[34mResolving dependencies...\u001b[0m \u001b[39;2m(911.7s)\u001b[0m\u001b[34mResolving dependencies...\u001b[0m \u001b[39;2m(911.9s)\u001b[0m\u001b[34mResolving dependencies...\u001b[0m \u001b[39;2m(915.8s)\u001b[0m^C\n",
      "\n"
     ]
    }
   ],
   "source": [
    "!poetry add langchain\n",
    "!poetry add lxml  # for html splitter\n",
    "!poetry add transformers\n",
    "!poetry add arize-phoenix\\[experimental\\]\n",
    "!poetry add sentence-transformers\n",
    "# tqdm \\  # for langchain progress"
   ]
  },
  {
   "cell_type": "code",
   "execution_count": 1,
   "metadata": {
    "id": "FtppO9TU7TNR"
   },
   "outputs": [
    {
     "name": "stderr",
     "output_type": "stream",
     "text": [
      "/Users/hide/llm-notebooks/.venv/lib/python3.9/site-packages/tqdm/auto.py:21: TqdmWarning: IProgress not found. Please update jupyter and ipywidgets. See https://ipywidgets.readthedocs.io/en/stable/user_install.html\n",
      "  from .autonotebook import tqdm as notebook_tqdm\n"
     ]
    },
    {
     "name": "stdout",
     "output_type": "stream",
     "text": [
      "🌍 To view the Phoenix app in your browser, visit http://127.0.0.1:6006/\n",
      "📺 To view the Phoenix app in a notebook, run `px.active_session().view()`\n",
      "📖 For more information on how to use Phoenix, check out https://docs.arize.com/phoenix\n",
      "📺 Opening a view to the Phoenix app. The app is running at http://127.0.0.1:6006/\n"
     ]
    }
   ],
   "source": [
    "import phoenix as px\n",
    "session = px.launch_app()\n",
    "px.active_session().view()\n",
    "\n",
    "from phoenix.trace.langchain import OpenInferenceTracer, LangChainInstrumentor\n",
    "tracer = OpenInferenceTracer()\n",
    "LangChainInstrumentor(tracer).instrument()\n",
    "\n",
    "# https://zenn.dev/ohtaman/articles/run_webapp_on_colab\n",
    "# from google.colab import output\n",
    "# output.serve_kernel_port_as_iframe(6006, path='/')"
   ]
  },
  {
   "cell_type": "code",
   "execution_count": 2,
   "metadata": {
    "id": "qspWtkwULb1N"
   },
   "outputs": [],
   "source": [
    "%run loader.ipynb"
   ]
  },
  {
   "cell_type": "code",
   "execution_count": 3,
   "metadata": {
    "id": "ggUhlcZIeUlJ",
    "scrolled": true
   },
   "outputs": [
    {
     "name": "stderr",
     "output_type": "stream",
     "text": [
      "Fetching pages: 100%|##########################################################################################| 1/1 [00:00<00:00,  3.51it/s]\n"
     ]
    },
    {
     "name": "stdout",
     "output_type": "stream",
     "text": [
      "132028\n"
     ]
    },
    {
     "data": {
      "text/plain": [
       "[{},\n",
       " {'Header 2': 'Executive summary'},\n",
       " {'Header 2': 'Introduction'},\n",
       " {'Header 2': 'AI and geopolitics'},\n",
       " {'Header 2': 'The AI incumbents: The US & China'},\n",
       " {'Header 2': 'The AI capabilities of geopolitical swing states'},\n",
       " {'Header 2': 'The European Union'},\n",
       " {'Header 2': 'The United Kingdom'},\n",
       " {'Header 2': 'The United Arab Emirates'},\n",
       " {'Header 2': 'Israel'},\n",
       " {'Header 2': 'Japan, The Netherlands, South Korea, and Taiwan'},\n",
       " {'Header 2': 'India'},\n",
       " {'Header 2': 'The emerging AI powers'},\n",
       " {'Header 2': 'The geopolitics of AI governance'},\n",
       " {'Header 2': 'The emerging AI powers'},\n",
       " {'Header 2': 'How technological development drives geopolitics'},\n",
       " {'Header 2': 'The key debate: scale up or scale down?'},\n",
       " {'Header 2': 'The future of AI governance'},\n",
       " {'Header 2': 'Charting the chip wars'},\n",
       " {'Header 2': 'AI and commerce'},\n",
       " {'Header 2': 'Energy'},\n",
       " {'Header 2': 'Compute'},\n",
       " {'Header 2': 'Data'},\n",
       " {'Header 2': 'Models'},\n",
       " {'Header 2': 'What to watch'}]"
      ]
     },
     "execution_count": 3,
     "metadata": {},
     "output_type": "execute_result"
    }
   ],
   "source": [
    "html_header_splits = load_and_split(**TEST_URLS['goldman'])\n",
    "[h.metadata for h in html_header_splits]"
   ]
  },
  {
   "cell_type": "markdown",
   "metadata": {
    "id": "Gc0-n7t4I1xi"
   },
   "source": [
    "## Create local LLM class\n",
    "https://www.mattari-benkyo-note.com/2023/05/19/langchain_hugging_face/"
   ]
  },
  {
   "cell_type": "raw",
   "metadata": {
    "id": "Cb5Oe-ukIn3u"
   },
   "source": [
    "from langchain.llms import HuggingFacePipeline\n",
    "from transformers import AutoModelForCausalLM, AutoTokenizer, pipeline\n",
    "\n",
    "# Models are not chat/instruct tuned. Only simple text completion\n",
    "# model_id = \"EleutherAI/gpt-neo-1.3B\"\n",
    "\n",
    "# model_id = \"facebook/opt-1.3b\"\n",
    "# tokenizer = AutoTokenizer.from_pretrained(model_id)\n",
    "# model = AutoModelForCausalLM.from_pretrained(model_id)\n",
    "# pipe = pipeline(\n",
    "#     \"text-generation\", model=model, tokenizer=tokenizer, max_new_tokens=512, device_map=\"auto\"\n",
    "# )\n",
    "\n",
    "# model_id = \"HuggingFaceH4/zephyr-7b-beta\"\n",
    "model_id = \"TheBloke/Llama-2-7B-Chat-GPTQ\"\n",
    "# model_id = \"gpt2\"\n",
    "pipe = pipeline(\n",
    "    \"text-generation\",\n",
    "    model=model_id,\n",
    "    device_map=\"auto\",\n",
    "    **{\n",
    "        \"temperature\": 0.1,\n",
    "        \"do_sample\": True,\n",
    "        \"max_new_tokens\": 4096,\n",
    "        # \"repetition_penalty\": 2.0,\n",
    "    }) #, \"pad_token_id\": 5026}) # \"max_new_tokens\": 2048})\n",
    "\n",
    "llm = HuggingFacePipeline(pipeline=pipe)"
   ]
  },
  {
   "cell_type": "code",
   "execution_count": 6,
   "metadata": {},
   "outputs": [],
   "source": [
    "from langchain.callbacks.manager import CallbackManager\n",
    "from langchain.callbacks.streaming_stdout import StreamingStdOutCallbackHandler\n",
    "from langchain.llms import Ollama\n",
    "\n",
    "llm = Ollama(model=\"llama2:7b-chat\")"
   ]
  },
  {
   "cell_type": "code",
   "execution_count": 18,
   "metadata": {
    "id": "6o6mDXHsCFBc"
   },
   "outputs": [
    {
     "name": "stdout",
     "output_type": "stream",
     "text": [
      "Hello! I'm just an AI, I don't have feelings or emotions like humans do, so I can't really experience the world in the same way that you do. However, I'm here to help you with any questions or tasks you might have, so feel free to ask me anything! Is there something specific you'd like to know or talk about?\n"
     ]
    }
   ],
   "source": [
    "# test\n",
    "# test_input = \"hello, how are you?\"\n",
    "# print(llm(test_input))"
   ]
  },
  {
   "cell_type": "code",
   "execution_count": 7,
   "metadata": {
    "id": "8sYr4j3cOPah"
   },
   "outputs": [],
   "source": [
    "from langchain.chains import MapReduceDocumentsChain, ReduceDocumentsChain\n",
    "from langchain.chains.combine_documents.stuff import StuffDocumentsChain\n",
    "from langchain.chains.llm import LLMChain\n",
    "from langchain.prompts import PromptTemplate\n",
    "\n",
    "# Prompt for llama2\n",
    "# * https://huggingface.co/TheBloke/Llama-2-13B-chat-GPTQ/discussions/5\n",
    "# * https://huggingface.co/blog/llama2#how-to-prompt-llama-2\n",
    "# * https://discuss.huggingface.co/t/trying-to-understand-system-prompts-with-llama-2-and-transformers-interface/59016/8\n",
    "\n",
    "# Map\n",
    "map_template = \"\"\"<s>[INST]The following is a set of documents:\n",
    "\n",
    "{docs}\n",
    "\n",
    "Based on this list of docs, please identify the main themes.[/INST]\n",
    "Helpful Answer:\"\"\"\n",
    "\n",
    "map_prompt = PromptTemplate.from_template(map_template)\n",
    "map_chain = LLMChain(llm=llm, prompt=map_prompt)\n",
    "\n",
    "# Reduce\n",
    "reduce_template = \"\"\"<s>[INST]The following is set of summaries:\n",
    "\n",
    "{docs}\n",
    "\n",
    "Take these and distill it into a final, consolidated summary of the main themes.[/INST]\n",
    "Helpful Answer:\"\"\"\n",
    "reduce_prompt = PromptTemplate.from_template(reduce_template)\n",
    "reduce_chain = LLMChain(llm=llm, prompt=reduce_prompt)\n",
    "\n",
    "## Takes a list of documents, combines them into a single string, and passes this to an LLMChain\n",
    "combine_documents_chain = StuffDocumentsChain(\n",
    "    llm_chain=reduce_chain, document_variable_name=\"docs\"\n",
    ")\n",
    "\n",
    "# Reduce Doc chain\n",
    "## Combines and iteravely reduces the mapped documents\n",
    "reduce_documents_chain = ReduceDocumentsChain(\n",
    "    combine_documents_chain=combine_documents_chain,\n",
    "    collapse_documents_chain=combine_documents_chain,\n",
    "    token_max=2000,\n",
    ")\n",
    "\n",
    "# Map-Reduce chain\n",
    "## Combining documents by mapping a chain over them, then combining results\n",
    "map_reduce_chain = MapReduceDocumentsChain(\n",
    "    llm_chain=map_chain,\n",
    "    reduce_documents_chain=reduce_documents_chain,\n",
    "    document_variable_name=\"docs\",\n",
    "    return_intermediate_steps=False,\n",
    ")"
   ]
  },
  {
   "cell_type": "raw",
   "metadata": {
    "id": "xNvR4L0sQnkb"
   },
   "source": [
    "from langchain.text_splitter import CharacterTextSplitter, RecursiveCharacterTextSplitter\n",
    "\n",
    "# text_splitter = CharacterTextSplitter.from_tiktoken_encoder(\n",
    "#     chunk_size=1000, chunk_overlap=0\n",
    "# )\n",
    "text_splitter = RecursiveCharacterTextSplitter(\n",
    "    chunk_size = 2000,\n",
    "    chunk_overlap  = 20,\n",
    "    length_function = len,\n",
    "    is_separator_regex = False,\n",
    ")\n",
    "\n",
    "split_docs = text_splitter.split_documents(data)\n",
    "len(split_docs)"
   ]
  },
  {
   "cell_type": "code",
   "execution_count": 16,
   "metadata": {
    "collapsed": true,
    "id": "mlNoDw8jUcUs",
    "jupyter": {
     "outputs_hidden": true
    }
   },
   "outputs": [
    {
     "name": "stderr",
     "output_type": "stream",
     "text": [
      "Token indices sequence length is longer than the specified maximum sequence length for this model (6246 > 1024). Running this sequence through the model will result in indexing errors\n"
     ]
    },
    {
     "name": "stdout",
     "output_type": "stream",
     "text": [
      "Based on the provided documents, the main themes that emerge in the geopolitics of AI governance are:\n",
      "\n",
      "1. The impact of AI on global power dynamics and the growing role of countries like India and Israel in the global AI ecosystem.\n",
      "2. The need for international cooperation to address the risks associated with AI, such as misinformation, autonomous weapons systems, and exploitation by non-state actors.\n",
      "3. The importance of developing norms and standards for AI governance, led by likeminded countries such as the G7-led Hiroshima Process.\n",
      "4. The potential for AI to be used for malicious purposes, such as creating harmful weapons or amplifying misinformation.\n",
      "5. The unpredictability and bias of AI algorithms, leading to unintended consequences and discriminatory outcomes in areas like law enforcement, healthcare, and job recruitment.\n",
      "6. The possibility of an \"intelligence explosion\" where AI could operate with objectives misaligned with universal values of human dignity.\n",
      "7. The need for regular evaluations and updates to keep policymakers up to date on the rapidly-evolving nature of this technology.\n",
      "\n",
      "In addition, based on the list of documents provided, the main themes that emerge are:\n",
      "\n",
      "1. Advancements in generative AI and their impact on business, society, and governance.\n",
      "2. Debates and risks associated with the integration of AI into daily life, including questions about AI norms and values, adoption and deployment, and risk tolerance.\n",
      "3. The evolving landscape of AI compute infrastructure, including advancements in hardware and software, and their commercial impact.\n",
      "4. Shifting priorities for data center operators, as energy demands for AI data centers grow, and the need to ensure a reliable supply of affordable energy becomes a key factor in determining data center locations.\n",
      "5. The importance of data-driven AI development and its impact on society, governance, and business.\n",
      "6. Limited availability of open web data and the need for alternative sources of data.\n",
      "7. Intellectual property concerns and the need for new norms and guardrails around the use of proprietary data.\n",
      "8. Emerging commercial pathways, including new revenue streams for companies with high-quality data.\n",
      "9. The potential impact of AI on various aspects of society, including technology, commerce, geopolitics, scientific discovery, and job creation/loss.\n",
      "10. The need for a balanced approach to address technological fragmentation between US and Chinese technology ecosystems and other countries' choices in protecting their digital sovereignty and interests.\n",
      "\n",
      "In summary, the main themes that emerge from both sets of documents are:\n",
      "\n",
      "1. The impact of AI on global power dynamics and governance.\n",
      "2. The need for international cooperation to address the risks associated with AI.\n",
      "3. The importance of developing norms and standards for AI governance.\n",
      "4. Debates and risks associated with the integration of AI into daily life.\n",
      "5. The evolving landscape of AI compute infrastructure and its commercial impact.\n",
      "6. The importance of data-driven AI development and its impact on society, governance, and business.\n",
      "7. Limited availability of open web data and the need for alternative sources of data.\n",
      "8. Intellectual property concerns and the need for new norms and guardrails around the use of proprietary data.\n",
      "9. Emerging commercial pathways in the AI industry.\n",
      "10. The need for a balanced approach to address technological fragmentation between US and Chinese technology ecosystems and other countries' choices in protecting their digital sovereignty and interests.\n"
     ]
    }
   ],
   "source": [
    "# 1300 secs... usng Ollama\n",
    "print(map_reduce_chain.run(html_header_splits))"
   ]
  },
  {
   "cell_type": "code",
   "execution_count": 24,
   "metadata": {},
   "outputs": [],
   "source": [
    "# px.active_session().get_spans_dataframe().to_feather('20231224-goldman-jared-report.feather')"
   ]
  }
 ],
 "metadata": {
  "colab": {
   "provenance": []
  },
  "kernelspec": {
   "display_name": "Python 3 (ipykernel)",
   "language": "python",
   "name": "python3"
  },
  "language_info": {
   "codemirror_mode": {
    "name": "ipython",
    "version": 3
   },
   "file_extension": ".py",
   "mimetype": "text/x-python",
   "name": "python",
   "nbconvert_exporter": "python",
   "pygments_lexer": "ipython3",
   "version": "3.9.6"
  }
 },
 "nbformat": 4,
 "nbformat_minor": 4
}
