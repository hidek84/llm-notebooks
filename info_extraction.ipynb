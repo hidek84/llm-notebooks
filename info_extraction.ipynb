{
 "cells": [
  {
   "cell_type": "markdown",
   "id": "b3382cf2-8cbb-48c6-ba22-828edc3e66ab",
   "metadata": {},
   "source": [
    "# Information Extraction\n",
    "\n",
    "1. Load and split\n",
    "2. Vectorsearch (retrieval)\n",
    "\n",
    "TODO:\n",
    "* paper for extraction"
   ]
  },
  {
   "cell_type": "code",
   "execution_count": 1,
   "id": "6aaab00b-5b61-404f-bde3-5ea5a3e56660",
   "metadata": {},
   "outputs": [],
   "source": [
    "%run loader.ipynb"
   ]
  },
  {
   "cell_type": "code",
   "execution_count": 2,
   "id": "004a7472-5d9f-4662-9732-18c6605d91e1",
   "metadata": {
    "collapsed": true,
    "jupyter": {
     "outputs_hidden": true
    },
    "scrolled": true
   },
   "outputs": [
    {
     "name": "stderr",
     "output_type": "stream",
     "text": [
      "Fetching pages: 100%|##############################################################################################| 1/1 [00:00<00:00,  3.36it/s]\n"
     ]
    },
    {
     "name": "stdout",
     "output_type": "stream",
     "text": [
      "131987\n"
     ]
    },
    {
     "data": {
      "text/plain": [
       "[{},\n",
       " {'Header 2': 'Executive summary'},\n",
       " {'Header 2': 'Introduction'},\n",
       " {'Header 2': 'AI and geopolitics'},\n",
       " {'Header 2': 'The AI incumbents: The US & China'},\n",
       " {'Header 2': 'The AI capabilities of geopolitical swing states'},\n",
       " {'Header 2': 'The European Union'},\n",
       " {'Header 2': 'The United Kingdom'},\n",
       " {'Header 2': 'The United Arab Emirates'},\n",
       " {'Header 2': 'Israel'},\n",
       " {'Header 2': 'Japan, The Netherlands, South Korea, and Taiwan'},\n",
       " {'Header 2': 'India'},\n",
       " {'Header 2': 'The emerging AI powers'},\n",
       " {'Header 2': 'The geopolitics of AI governance'},\n",
       " {'Header 2': 'The emerging AI powers'},\n",
       " {'Header 2': 'How technological development drives geopolitics'},\n",
       " {'Header 2': 'The key debate: scale up or scale down?'},\n",
       " {'Header 2': 'The future of AI governance'},\n",
       " {'Header 2': 'Charting the chip wars'},\n",
       " {'Header 2': 'AI and commerce'},\n",
       " {'Header 2': 'Energy'},\n",
       " {'Header 2': 'Compute'},\n",
       " {'Header 2': 'Data'},\n",
       " {'Header 2': 'Models'},\n",
       " {'Header 2': 'What to watch'}]"
      ]
     },
     "execution_count": 2,
     "metadata": {},
     "output_type": "execute_result"
    }
   ],
   "source": [
    "html_header_splits = load_and_split(**TEST_URLS[\"goldman\"])\n",
    "[h.metadata for h in html_header_splits]"
   ]
  },
  {
   "cell_type": "code",
   "execution_count": 6,
   "id": "7519e12e-06d1-408a-93e4-91a68f3d304d",
   "metadata": {},
   "outputs": [
    {
     "data": {
      "text/plain": [
       "12"
      ]
     },
     "execution_count": 6,
     "metadata": {},
     "output_type": "execute_result"
    }
   ],
   "source": [
    "from langchain.document_loaders import OnlinePDFLoader, UnstructuredPDFLoader\n",
    "\n",
    "loader = UnstructuredPDFLoader(\n",
    "    \"data_pdfs/tepco-tfcd-2023.pdf\",\n",
    "    # mode=\"elements\",\n",
    ")\n",
    "data = loader.load()\n",
    "\n",
    "from langchain.text_splitter import CharacterTextSplitter, RecursiveCharacterTextSplitter\n",
    "\n",
    "text_splitter = RecursiveCharacterTextSplitter(\n",
    "    chunk_size = 2000,\n",
    "    chunk_overlap  = 20,\n",
    "    length_function = len,\n",
    "    is_separator_regex = False,\n",
    ")\n",
    "\n",
    "html_header_splits = text_splitter.split_documents(data)\n",
    "len(html_header_splits)"
   ]
  },
  {
   "cell_type": "code",
   "execution_count": 16,
   "id": "312125d9-4a0b-424c-a383-989398c02a6c",
   "metadata": {},
   "outputs": [],
   "source": [
    "# https://github.com/nlmatics/llmsherpa?tab=readme-ov-file#read-a-pdf-file\n",
    "from llmsherpa.readers import LayoutPDFReader\n",
    "from langchain.docstore.document import Document\n",
    "\n",
    "llmsherpa_api_url = \"https://readers.llmsherpa.com/api/document/developer/parseDocument?renderFormat=all\"\n",
    "pdf_url = \"data_pdfs/tepco-tfcd-2023.pdf\" # also allowed is a file path e.g. /home/downloads/xyz.pdf\n",
    "pdf_reader = LayoutPDFReader(llmsherpa_api_url)\n",
    "doc = pdf_reader.read_pdf(pdf_url)\n",
    "html_header_splits = [Document(page_content=chunk.to_context_text()) for chunk in doc.chunks()]"
   ]
  },
  {
   "cell_type": "code",
   "execution_count": 17,
   "id": "0c43e580-bb83-4d26-8a05-8a5e00f16e32",
   "metadata": {},
   "outputs": [],
   "source": [
    "from langchain.embeddings.huggingface import HuggingFaceEmbeddings\n",
    "from langchain.vectorstores import SKLearnVectorStore\n",
    "\n",
    "# embeddings = HuggingFaceEmbeddings(model_name=\"sentence-transformers/all-mpnet-base-v2\")\n",
    "# embeddings = HuggingFaceEmbeddings(model_name=\"WhereIsAI/UAE-Large-V1\")\n",
    "\n",
    "encode_kwargs = {'normalize_embeddings': True} # set True to compute cosine similarity\n",
    "embeddings = HuggingFaceEmbeddings(model_name=\"BAAI/bge-large-en-v1.5\", encode_kwargs=encode_kwargs)\n",
    "\n",
    "vector_store = SKLearnVectorStore.from_documents(html_header_splits, embeddings)"
   ]
  },
  {
   "cell_type": "raw",
   "id": "10cd2684-e19d-46e9-a9f6-8370469ffe0f",
   "metadata": {},
   "source": [
    "No sentence-transformers model found with name /Users/hide/.cache/torch/sentence_transformers/WhereIsAI_UAE-Large-V1. Creating a new one with MEAN pooling."
   ]
  },
  {
   "cell_type": "code",
   "execution_count": 18,
   "id": "645805fc-18a6-41f2-9bd6-a17bfb4a88f8",
   "metadata": {},
   "outputs": [
    {
     "name": "stdout",
     "output_type": "stream",
     "text": [
      "(Document(page_content='社 会 > カーボンニュートラル 目的の明確化\\nお客さまの目的を明確化し、 認識共有を図る', metadata={'id': '47faf61a-df70-45d5-94df-9184d20406cb'}), 0.7452211617219464)\n",
      "\n",
      "* `目標` included\n",
      "* `削減` included\n",
      "(Document(page_content='カーボン ハーフ\\n※3 速報値。電源調達の工夫等に加え、法規制対応において、非化石証書 の調達量が増加した影響により約53%削減(目標達成) 社 会\\n系統利用の最適化 P26\\n広域化', metadata={'id': '1fdd1e02-9d28-44a6-84e7-f942dfb6811f'}), 0.743707297601663)\n",
      "\n",
      "(Document(page_content='社 会 > カーボンニュートラル 目的の明確化\\n［ サービス例 ］関連KPI', metadata={'id': '6189fa96-0b2c-4d6e-8911-c1e1f51409d5'}), 0.7404072927691021)\n",
      "\n",
      "(Document(page_content='今後も選ばれ続ける 教育旅行先 > 社会的価値\\n自然環境の保全', metadata={'id': '91503eaf-c11c-4c3a-b468-c370971813c6'}), 0.7400547509937968)\n",
      "\n"
     ]
    }
   ],
   "source": [
    "keywords = \"japan\".split(\" \")\n",
    "keywords = \"目標 削減 50%\".split(\" \")\n",
    "\n",
    "found_docs = vector_store.similarity_search_with_relevance_scores(\" \".join(keywords))\n",
    "\n",
    "for doc in found_docs:\n",
    "    for keyword in keywords:\n",
    "        if keyword.lower() in doc[0].page_content.lower():\n",
    "            print(f\"* `{keyword}` included\")\n",
    "    print(doc)\n",
    "    print()"
   ]
  },
  {
   "cell_type": "code",
   "execution_count": 19,
   "id": "f2d34baf-ca77-4be9-a1bc-1bf581de524e",
   "metadata": {},
   "outputs": [],
   "source": [
    "from langchain.callbacks.manager import CallbackManager\n",
    "from langchain.callbacks.streaming_stdout import StreamingStdOutCallbackHandler\n",
    "from langchain.llms import Ollama\n",
    "\n",
    "llm = Ollama(model=\"llama2:7b-chat\")"
   ]
  },
  {
   "cell_type": "code",
   "execution_count": 24,
   "id": "3502309d-5306-4b07-9de8-fb02ec08f888",
   "metadata": {},
   "outputs": [],
   "source": [
    "from langchain.chains.llm import LLMChain\n",
    "from langchain.prompts import PromptTemplate\n",
    "\n",
    "check_template = \"\"\"<s>[INST]Please check if the following paragraph is related to Japan and rate this relevance to whether low, middle, or high.\n",
    "\n",
    "{docs}\n",
    "\n",
    "Helpful Answer:\"\"\"\n",
    "\n",
    "check_template = \"\"\"<s>[INST]Please extract the sentences exactly regardng Japan.\n",
    "\n",
    "{docs}\n",
    "\n",
    "Helpful Answer:\"\"\"\n",
    "\n",
    "check_prompt = PromptTemplate.from_template(check_template)\n",
    "check_chain = LLMChain(llm=llm, prompt=check_prompt)"
   ]
  },
  {
   "cell_type": "code",
   "execution_count": 25,
   "id": "c99ea049-7e4f-4d32-811b-4a0ff013b9a2",
   "metadata": {},
   "outputs": [
    {
     "name": "stdout",
     "output_type": "stream",
     "text": [
      "(Document(page_content='South Korea, Japan, and Taiwan are home to some of the world’s most important semiconductor design and manufacturing companies, as well as semiconductor manufacturing equipment makers. They are also located in critical geographies for global supply chains along the South China Sea and East China Sea. The world’s great powers are dependent on these countries for their own technological competitiveness.  \\nThe importance of these countries in multilateral cooperation has been clear for some time. In addition to their roles in the enforcement of export controls, in March 2022, US President Joe Biden reportedly proposed a “CHIP 4” grouping of the US and these three East Asian governments, a move seen as not only aimed at isolating Beijing, but also at creating greater supply-chain diversification and protecting companies’ intellectual property. However, the initiative has not yet made significant progress.  \\nAs artificial intelligence becomes a greater part of daily life, these countries’ geopolitical importance will continue to grow. Taiwan’s dominance of high-end semiconductor manufacturing is of particular consequence. The island nation manufactures 68% of semiconductors globally and 90% of leading-edge semiconductors necessary for advanced AI applications. No other country, and no other company, can produce high-end semiconductors in the quantity and quality of Taiwan Semiconductor Manufacturing Company (TSMC). The great powers rely on Taiwanese-made chips that power everything from smartphones to advanced weapons systems. Because of that reality, many leaders, including Taiwanese President Tsai Ing-wen, have referred to Taiwan’s semiconductor industry as its “silicon shield,” protecting it from aggression and supply-chain disruptions. However, a recent Council on Foreign Relations report argued that TSMC’s position may make potential aggression by Beijing more likely, as Beijing could have an interest in gaining control of the company and using it for geopolitical leverage.  \\nThe final country that is critical for global semiconductor supply chains is the Netherlands. The Dutch company ASML is the world’s only manufacturer of extreme ultraviolet lithography (EUV) machines, which are necessary for the ever-more sophisticated integrated circuits in semiconductor fabrication, at a cost of $330 million or more for each machine. According to Goldman Sachs Research, EUV could increase the size of the global semiconductor market from $600 billion in 2022 to $1 trillion by the end of the decade.', metadata={'id': '33486450-e039-42a5-8799-b39cd8ad02d2', 'Header 2': 'Japan, The Netherlands, South Korea, and Taiwan'}), 0.6755666676675587)\n",
      "---\n",
      "Sure, here are the sentences related to Japan:\n",
      "\n",
      "* South Korea, Japan, and Taiwan are home to some of the world's most important semiconductor design and manufacturing companies.\n",
      "* Japan is located in a critical geography for global supply chains along the South China Sea and East China Sea.\n",
      "* The great powers are dependent on these countries for their own technological competitiveness.\n",
      "\n",
      "In summary, Japan is mentioned as one of the countries home to important semiconductor companies and located in a critical geography for global supply chains.\n",
      "====\n"
     ]
    }
   ],
   "source": [
    "for doc in found_docs[:1]:\n",
    "    print(doc)\n",
    "    print(\"---\")\n",
    "    print(check_chain.run(doc))\n",
    "    print(\"====\")"
   ]
  }
 ],
 "metadata": {
  "kernelspec": {
   "display_name": "Python 3 (ipykernel)",
   "language": "python",
   "name": "python3"
  },
  "language_info": {
   "codemirror_mode": {
    "name": "ipython",
    "version": 3
   },
   "file_extension": ".py",
   "mimetype": "text/x-python",
   "name": "python",
   "nbconvert_exporter": "python",
   "pygments_lexer": "ipython3",
   "version": "3.9.6"
  }
 },
 "nbformat": 4,
 "nbformat_minor": 5
}
